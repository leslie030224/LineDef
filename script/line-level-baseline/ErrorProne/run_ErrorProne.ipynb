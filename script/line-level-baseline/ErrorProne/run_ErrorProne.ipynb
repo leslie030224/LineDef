{
 "cells": [
  {
   "cell_type": "code",
   "execution_count": 5,
   "source": [
    "import pandas as pd\n",
    "import numpy as np\n",
    "import subprocess, re, os, time\n",
    "\n",
    "from multiprocessing import Pool\n",
    "\n",
    "from tqdm import tqdm"
   ],
   "outputs": [],
   "metadata": {}
  },
  {
   "cell_type": "code",
   "execution_count": 7,
   "source": [
    "all_eval_releases = ['activemq-5.2.0','activemq-5.3.0','activemq-5.8.0',\n",
    "                     'camel-2.10.0','camel-2.11.0', \n",
    "                     'derby-10.5.1.1',\n",
    "                     'groovy-1_6_BETA_2', \n",
    "                     'hbase-0.95.2',\n",
    "                     'hive-0.12.0', \n",
    "                     'jruby-1.5.0','jruby-1.7.0.preview1',\n",
    "                     'lucene-3.0.0','lucene-3.1', \n",
    "                     'wicket-1.5.3']\n",
    "\n",
    "all_dataset_name = ['activemq','camel','derby','groovy','hbase','hive','jruby','lucene','wicket']\n",
    "\n",
    "base_file_dir = './ErrorProne_data/'\n",
    "base_command = \"javac -J-Xbootclasspath/p:javac-9+181-r4173-1.jar -XDcompilePolicy=simple -processorpath error_prone_core-2.4.0-with-dependencies.jar:dataflow-shaded-3.1.2.jar:jFormatString-3.0.0.jar '-Xplugin:ErrorProne -XepDisableAllChecks -Xep:CollectionIncompatibleType:ERROR' \"\n",
    "\n",
    "result_dir = './ErrorProne_result/'\n",
    "\n",
    "if not os.path.exists(result_dir):\n",
    "    os.makedirs(result_dir)\n",
    "    "
   ],
   "outputs": [],
   "metadata": {}
  },
  {
   "cell_type": "code",
   "execution_count": 10,
   "source": [
    "def run_ErrorProne(rel):\n",
    "    df_list = []\n",
    "    java_file_dir = base_file_dir+rel+'/'\n",
    "\n",
    "    file_list = os.listdir(java_file_dir)\n",
    "    \n",
    "    for java_filename in tqdm(file_list):        \n",
    "        f = open(java_file_dir+java_filename,'r',encoding='utf-8',errors='ignore')\n",
    "        java_code = f.readlines()\n",
    "\n",
    "        code_len = len(java_code)\n",
    "\n",
    "        output = subprocess.getoutput(base_command+java_file_dir+java_filename)\n",
    "\n",
    "        reported_lines = re.findall('\\d+: error:',output)\n",
    "        reported_lines = [int(l.replace(':','').replace('error','')) for l in reported_lines]\n",
    "        reported_lines = list(set(reported_lines))\n",
    "\n",
    "        line_df = pd.DataFrame()\n",
    "\n",
    "        line_df['filename'] = [java_filename.replace('_','/')]*code_len\n",
    "        line_df['test-release'] = [rel]*len(line_df)\n",
    "        line_df['line_number'] = np.arange(1,code_len+1)\n",
    "        line_df['EP_prediction_result'] = line_df['line_number'].isin(reported_lines)\n",
    "\n",
    "        df_list.append(line_df)\n",
    "\n",
    "    final_df = pd.concat(df_list)\n",
    "    final_df.to_csv(result_dir+rel+'-line-lvl-result.txt',index=False)\n",
    "    print('finished',rel)"
   ],
   "outputs": [],
   "metadata": {}
  },
  {
   "cell_type": "code",
   "execution_count": 11,
   "source": [
    "agents = 5\n",
    "chunksize = 8\n",
    "\n",
    "with Pool(processes=agents) as pool:\n",
    "    pool.map(run_ErrorProne, all_eval_releases, chunksize)"
   ],
   "outputs": [
    {
     "output_type": "stream",
     "name": "stderr",
     "text": [
      "100%|██████████| 25/25 [00:59<00:00,  2.36s/it]]\n",
      " 35%|███▍      | 27/78 [00:59<01:52,  2.21s/it]"
     ]
    },
    {
     "output_type": "stream",
     "name": "stdout",
     "text": [
      "finished jruby-1.5.0\n"
     ]
    },
    {
     "output_type": "stream",
     "name": "stderr",
     "text": [
      "100%|██████████| 38/38 [01:29<00:00,  2.34s/it]]\n",
      " 86%|████████▌ | 67/78 [02:28<00:24,  2.24s/it]"
     ]
    },
    {
     "output_type": "stream",
     "name": "stdout",
     "text": [
      "finished jruby-1.7.0.preview1\n"
     ]
    },
    {
     "output_type": "stream",
     "name": "stderr",
     "text": [
      "100%|██████████| 78/78 [02:52<00:00,  2.21s/it]]\n",
      " 58%|█████▊    | 76/130 [02:52<02:17,  2.54s/it]"
     ]
    },
    {
     "output_type": "stream",
     "name": "stdout",
     "text": [
      "finished activemq-5.1.0\n"
     ]
    },
    {
     "output_type": "stream",
     "name": "stderr",
     "text": [
      "100%|██████████| 41/41 [01:30<00:00,  2.21s/it]t]\n"
     ]
    },
    {
     "output_type": "stream",
     "name": "stdout",
     "text": [
      "finished activemq-5.2.0\n"
     ]
    },
    {
     "output_type": "stream",
     "name": "stderr",
     "text": [
      "100%|██████████| 62/62 [02:14<00:00,  2.17s/it]t]\n"
     ]
    },
    {
     "output_type": "stream",
     "name": "stdout",
     "text": [
      "finished lucene-2.9.0\n"
     ]
    },
    {
     "output_type": "stream",
     "name": "stderr",
     "text": [
      "100%|██████████| 130/130 [04:58<00:00,  2.29s/it]\n"
     ]
    },
    {
     "output_type": "stream",
     "name": "stdout",
     "text": [
      "finished derby-10.5.1.1\n"
     ]
    },
    {
     "output_type": "stream",
     "name": "stderr",
     "text": [
      "100%|██████████| 30/30 [01:11<00:00,  2.37s/it]]\n",
      " 46%|████▌     | 47/103 [01:47<02:09,  2.32s/it]"
     ]
    },
    {
     "output_type": "stream",
     "name": "stdout",
     "text": [
      "finished groovy-1_6_BETA_1\n"
     ]
    },
    {
     "output_type": "stream",
     "name": "stderr",
     "text": [
      "100%|██████████| 55/55 [02:00<00:00,  2.19s/it]]\n",
      " 45%|████▌     | 14/31 [00:33<00:38,  2.28s/it]"
     ]
    },
    {
     "output_type": "stream",
     "name": "stdout",
     "text": [
      "finished lucene-3.0.0\n"
     ]
    },
    {
     "output_type": "stream",
     "name": "stderr",
     "text": [
      "100%|██████████| 31/31 [01:12<00:00,  2.33s/it]]\n"
     ]
    },
    {
     "output_type": "stream",
     "name": "stdout",
     "text": [
      "finished groovy-1_6_BETA_2\n"
     ]
    },
    {
     "output_type": "stream",
     "name": "stderr",
     "text": [
      "100%|██████████| 38/38 [01:23<00:00,  2.19s/it]]\n"
     ]
    },
    {
     "output_type": "stream",
     "name": "stdout",
     "text": [
      "finished lucene-3.1\n"
     ]
    },
    {
     "output_type": "stream",
     "name": "stderr",
     "text": [
      "100%|██████████| 103/103 [03:52<00:00,  2.25s/it]\n",
      " 19%|█▉        | 22/115 [00:52<03:25,  2.21s/it]"
     ]
    },
    {
     "output_type": "stream",
     "name": "stdout",
     "text": [
      "finished activemq-5.3.0\n"
     ]
    },
    {
     "output_type": "stream",
     "name": "stderr",
     "text": [
      "100%|██████████| 71/71 [02:34<00:00,  2.17s/it]]\n",
      " 73%|███████▎  | 84/115 [03:18<01:21,  2.62s/it]"
     ]
    },
    {
     "output_type": "stream",
     "name": "stdout",
     "text": [
      "finished wicket-1.3.0-beta2\n"
     ]
    },
    {
     "output_type": "stream",
     "name": "stderr",
     "text": [
      "100%|██████████| 115/115 [04:27<00:00,  2.33s/it]\n"
     ]
    },
    {
     "output_type": "stream",
     "name": "stdout",
     "text": [
      "finished hbase-0.95.0\n"
     ]
    },
    {
     "output_type": "stream",
     "name": "stderr",
     "text": [
      "100%|██████████| 102/102 [03:49<00:00,  2.25s/it]\n"
     ]
    },
    {
     "output_type": "stream",
     "name": "stdout",
     "text": [
      "finished activemq-5.8.0\n"
     ]
    },
    {
     "output_type": "stream",
     "name": "stderr",
     "text": [
      "100%|██████████| 50/50 [01:51<00:00,  2.22s/it]]\n"
     ]
    },
    {
     "output_type": "stream",
     "name": "stdout",
     "text": [
      "finished wicket-1.5.3\n"
     ]
    },
    {
     "output_type": "stream",
     "name": "stderr",
     "text": [
      "100%|██████████| 89/89 [02:26<00:00,  1.65s/it]]\n"
     ]
    },
    {
     "output_type": "stream",
     "name": "stdout",
     "text": [
      "finished camel-2.9.0\n"
     ]
    },
    {
     "output_type": "stream",
     "name": "stderr",
     "text": [
      "100%|██████████| 110/110 [03:12<00:00,  1.75s/it]\n"
     ]
    },
    {
     "output_type": "stream",
     "name": "stdout",
     "text": [
      "finished hbase-0.95.2\n"
     ]
    },
    {
     "output_type": "stream",
     "name": "stderr",
     "text": [
      "100%|██████████| 73/73 [01:59<00:00,  1.64s/it]]\n"
     ]
    },
    {
     "output_type": "stream",
     "name": "stdout",
     "text": [
      "finished hive-0.10.0\n"
     ]
    },
    {
     "output_type": "stream",
     "name": "stderr",
     "text": [
      "100%|██████████| 111/111 [02:50<00:00,  1.54s/it]\n"
     ]
    },
    {
     "output_type": "stream",
     "name": "stdout",
     "text": [
      "finished camel-2.10.0\n"
     ]
    },
    {
     "output_type": "stream",
     "name": "stderr",
     "text": [
      "100%|██████████| 119/119 [02:56<00:00,  1.49s/it]\n"
     ]
    },
    {
     "output_type": "stream",
     "name": "stdout",
     "text": [
      "finished camel-2.11.0\n"
     ]
    },
    {
     "output_type": "stream",
     "name": "stderr",
     "text": [
      "100%|██████████| 171/171 [04:37<00:00,  1.62s/it]\n",
      " 19%|█▊        | 53/285 [01:23<05:52,  1.52s/it]"
     ]
    },
    {
     "output_type": "stream",
     "name": "stdout",
     "text": [
      "finished hive-0.12.0\n"
     ]
    },
    {
     "output_type": "stream",
     "name": "stderr",
     "text": [
      "100%|██████████| 127/127 [03:22<00:00,  1.59s/it]\n",
      " 65%|██████▌   | 186/285 [04:46<02:27,  1.49s/it]"
     ]
    },
    {
     "output_type": "stream",
     "name": "stdout",
     "text": [
      "finished jruby-1.4.0\n"
     ]
    },
    {
     "output_type": "stream",
     "name": "stderr",
     "text": [
      "100%|██████████| 285/285 [06:29<00:00,  1.37s/it]\n"
     ]
    },
    {
     "output_type": "stream",
     "name": "stdout",
     "text": [
      "finished derby-10.3.1.4\n"
     ]
    }
   ],
   "metadata": {
    "scrolled": false
   }
  }
 ],
 "metadata": {
  "kernelspec": {
   "display_name": "Python 3",
   "language": "python",
   "name": "python3"
  },
  "language_info": {
   "codemirror_mode": {
    "name": "ipython",
    "version": 3
   },
   "file_extension": ".py",
   "mimetype": "text/x-python",
   "name": "python",
   "nbconvert_exporter": "python",
   "pygments_lexer": "ipython3",
   "version": "3.8.10"
  }
 },
 "nbformat": 4,
 "nbformat_minor": 4
}